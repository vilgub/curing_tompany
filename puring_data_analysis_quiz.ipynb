{
 "cells": [
  {
   "cell_type": "markdown",
   "id": "33231c9c",
   "metadata": {},
   "source": [
    "# Data analysis quiz for Curing Tompany"
   ]
  },
  {
   "cell_type": "code",
   "execution_count": 2,
   "id": "f77b3dca",
   "metadata": {},
   "outputs": [],
   "source": [
    "import pandas as pd\n",
    "cardio_alco = pd.read_csv('1.csv')\n",
    "cardio_base = pd.read_csv('2.csv')\n",
    "covid_data = pd.read_csv('3.csv')"
   ]
  },
  {
   "cell_type": "markdown",
   "id": "26b323f6",
   "metadata": {},
   "source": [
    "## Find the age group with the highest and lowest average weight\n",
    "## Calculate the difference in weight between the two age groups as a percentage"
   ]
  },
  {
   "cell_type": "code",
   "execution_count": 3,
   "id": "e6e64017",
   "metadata": {},
   "outputs": [
    {
     "name": "stdout",
     "output_type": "stream",
     "text": [
      "The age group with the highest average weight is 61.0 years old.\n",
      "The age group with the lowest average weight is 30.0 years old.\n",
      "The difference in weight between the two groups is 12.03% heavier.\n"
     ]
    }
   ],
   "source": [
    "# Create a new column for age in years\n",
    "cardio_base['age'] = round(cardio_base['age'] / 365.25)\n",
    "\n",
    "# Calculate the average weight by age group\n",
    "avg_weight_by_age = cardio_base.groupby('age')['weight'].mean()\n",
    "\n",
    "# Find the age group with the highest and lowest average weight\n",
    "age_with_highest_weight = avg_weight_by_age.idxmax()\n",
    "age_with_lowest_weight = avg_weight_by_age.idxmin()\n",
    "\n",
    "# Calculate the difference in weight between the two age groups as a percentage\n",
    "weight_difference = (avg_weight_by_age[age_with_highest_weight] - avg_weight_by_age[age_with_lowest_weight]) / avg_weight_by_age[age_with_lowest_weight] * 100\n",
    "\n",
    "print(\"The age group with the highest average weight is {} years old.\".format(age_with_highest_weight))\n",
    "print(\"The age group with the lowest average weight is {} years old.\".format(age_with_lowest_weight))\n",
    "print(\"The difference in weight between the two groups is {:.2f}% heavier.\".format(weight_difference))"
   ]
  },
  {
   "cell_type": "markdown",
   "id": "63cf7b27",
   "metadata": {},
   "source": [
    "## do people over 50 has higher cholesterol levels"
   ]
  },
  {
   "cell_type": "code",
   "execution_count": 4,
   "id": "6814d014",
   "metadata": {},
   "outputs": [
    {
     "name": "stdout",
     "output_type": "stream",
     "text": [
      "People over 50 have higher cholesterol levels.\n",
      "28.55% of people over 50 have high cholesterol.\n"
     ]
    }
   ],
   "source": [
    "# Group the data by age and calculate the average cholesterol level for each age group\n",
    "avg_cholesterol_by_age = cardio_base.groupby('age')['cholesterol'].mean()\n",
    "\n",
    "# Calculate the average cholesterol level for people over 50 and under 50\n",
    "avg_cholesterol_over_50 = avg_cholesterol_by_age[avg_cholesterol_by_age.index > 50].mean()\n",
    "avg_cholesterol_under_50 = avg_cholesterol_by_age[avg_cholesterol_by_age.index <= 50].mean()\n",
    "\n",
    "# Compare the average cholesterol levels for people over 50 to those under 50\n",
    "if avg_cholesterol_over_50 > avg_cholesterol_under_50:\n",
    "    print(\"People over 50 have higher cholesterol levels.\")\n",
    "else:\n",
    "    print(\"People over 50 do not have higher cholesterol levels.\")\n",
    "\n",
    "# Calculate the percentage of people over 50 with high cholesterol (level 2 or 3)\n",
    "num_over_50 = cardio_base[cardio_base['age'] > 50].shape[0]\n",
    "num_high_cholesterol_over_50 = cardio_base[(cardio_base['age'] > 50) & (cardio_base['cholesterol'] >= 2)].shape[0]\n",
    "pct_high_cholesterol_over_50 = num_high_cholesterol_over_50 / num_over_50 * 100\n",
    "\n",
    "print(\"{:.2f}% of people over 50 have high cholesterol.\".format(pct_high_cholesterol_over_50))"
   ]
  },
  {
   "cell_type": "markdown",
   "id": "4ac7a1d0",
   "metadata": {},
   "source": [
    "## are men more likely to be a smoker?"
   ]
  },
  {
   "cell_type": "code",
   "execution_count": 5,
   "id": "607b440f",
   "metadata": {},
   "outputs": [
    {
     "name": "stdout",
     "output_type": "stream",
     "text": [
      "Yes, men are smokers 7x more than women.\n"
     ]
    }
   ],
   "source": [
    "# Group the data by gender and count the number of smokers for each group\n",
    "smokers_by_gender = cardio_base.groupby(['gender'])['smoke'].sum()\n",
    "\n",
    "# Calculate the total number of smokers and non-smokers\n",
    "total_smokers = smokers_by_gender.sum()\n",
    "total_non_smokers = cardio_base.shape[0] - total_smokers\n",
    "\n",
    "# Calculate the percentage of male smokers and the percentage of female smokers\n",
    "pct_male_smokers = smokers_by_gender[2] / total_smokers * 100\n",
    "pct_female_smokers = smokers_by_gender[1] / total_smokers * 100\n",
    "\n",
    "if pct_male_smokers > pct_female_smokers:\n",
    "    ratio = pct_male_smokers / pct_female_smokers\n",
    "    print(\"Yes, men are smokers {:.0f}x more than women.\".format(ratio))\n",
    "else:\n",
    "    ratio = pct_female_smokers / pct_male_smokers\n",
    "    print(\"No, men are not smokers more than women. Women are smokers {:.0f}x more than men.\".format(ratio))"
   ]
  },
  {
   "cell_type": "markdown",
   "id": "30e032b6",
   "metadata": {},
   "source": [
    "## the percentage of female smokers"
   ]
  },
  {
   "cell_type": "code",
   "execution_count": 7,
   "id": "12551a05",
   "metadata": {},
   "outputs": [
    {
     "name": "stdout",
     "output_type": "stream",
     "text": [
      "1.79% of women are smokers.\n"
     ]
    }
   ],
   "source": [
    "# Count the number of female smokers\n",
    "female_smokers = cardio_base[(cardio_base['gender'] == 1) & (cardio_base['smoke'] == 1)].shape[0]\n",
    "\n",
    "# Calculate the percentage of female smokers\n",
    "pct_female_smokers = female_smokers / cardio_base[cardio_base['gender'] == 1].shape[0] * 100\n",
    "\n",
    "# Print the percentage of female smokers\n",
    "print(\"{:.2f}% of women are smokers.\".format(pct_female_smokers))"
   ]
  },
  {
   "cell_type": "markdown",
   "id": "092f3210",
   "metadata": {},
   "source": [
    "## how tall are 1% tallest people?"
   ]
  },
  {
   "cell_type": "code",
   "execution_count": 8,
   "id": "230a866c",
   "metadata": {},
   "outputs": [
    {
     "name": "stdout",
     "output_type": "stream",
     "text": [
      "The height of the 1% tallest people is 184.0 cm.\n"
     ]
    }
   ],
   "source": [
    "# Calculate the height at the 99th percentile\n",
    "height_99th = cardio_base['height'].quantile(0.99)\n",
    "\n",
    "print(\"The height of the 1% tallest people is {:.1f} cm.\".format(height_99th))"
   ]
  },
  {
   "cell_type": "markdown",
   "id": "4fd4cdfa",
   "metadata": {},
   "source": [
    "## Find the features with the highest Spearman rank correlation"
   ]
  },
  {
   "cell_type": "code",
   "execution_count": 10,
   "id": "d2f44275",
   "metadata": {},
   "outputs": [
    {
     "name": "stdout",
     "output_type": "stream",
     "text": [
      "The features with the highest Spearman rank correlation are 'ap_hi' and 'ap_lo' with a correlation coefficient of 0.74.\n"
     ]
    }
   ],
   "source": [
    "# Calculate the Spearman rank correlation coefficients between all pairs of features\n",
    "corr_matrix = cardio_base.corr(method='spearman')\n",
    "\n",
    "# Identify the pairs of features with the highest correlation coefficients\n",
    "top_corr = corr_matrix.abs().unstack().sort_values(ascending=False)\n",
    "top_corr = top_corr[top_corr != 1].reset_index()\n",
    "top_corr.columns = ['Feature 1', 'Feature 2', 'Spearman rank correlation']\n",
    "top_corr = top_corr.iloc[0]\n",
    "\n",
    "print(\"The features with the highest Spearman rank correlation are '{}' and '{}' with a correlation coefficient of {:.2f}.\".format(top_corr[0], top_corr[1], top_corr[2]))\n"
   ]
  },
  {
   "cell_type": "code",
   "execution_count": 11,
   "id": "6a181e2f",
   "metadata": {},
   "outputs": [
    {
     "data": {
      "image/png": "[encoded data removed]",
      "text/plain": [
       "<Figure size 640x480 with 2 Axes>"
      ]
     },
     "metadata": {},
     "output_type": "display_data"
    }
   ],
   "source": [
    "import seaborn as sns\n",
    "import matplotlib.pyplot as plt\n",
    "\n",
    "sns.set(style=\"white\")\n",
    "\n",
    "# Create a heatmap of the correlation matrix\n",
    "sns.heatmap(corr_matrix, cmap=\"coolwarm\", annot=True)\n",
    "\n",
    "# Set the title of the plot\n",
    "plt.title(\"Correlation Matrix\")\n",
    "\n",
    "# Show the plot\n",
    "plt.show()\n"
   ]
  },
  {
   "cell_type": "markdown",
   "id": "aac82e0a",
   "metadata": {},
   "source": [
    "## Calculate the percentage of people whose height is more than 2 standard deviations away from the mean"
   ]
  },
  {
   "cell_type": "code",
   "execution_count": 12,
   "id": "7103b59a",
   "metadata": {},
   "outputs": [
    {
     "name": "stdout",
     "output_type": "stream",
     "text": [
      "2.06% of people are more than 2 standard deviations away from the average height.\n"
     ]
    }
   ],
   "source": [
    "# Calculate the mean and standard deviation of the height column\n",
    "mean_height = cardio_base['height'].mean()\n",
    "std_height = cardio_base['height'].std()\n",
    "\n",
    "# Calculate the normalized deviation of each height from the mean\n",
    "deviation = cardio_base['height'].abs().sub(mean_height).div(std_height)\n",
    "\n",
    "# Calculate the percentage of people whose height is more than 2 standard deviations away from the mean\n",
    "pct_more_than_2std = (deviation > 2).mean() * 100\n",
    "\n",
    "print(\"{:.2f}% of people are more than 2 standard deviations away from the average height.\".format(pct_more_than_2std))"
   ]
  },
  {
   "cell_type": "markdown",
   "id": "98f9eba7",
   "metadata": {},
   "source": [
    "## Merge dataframes"
   ]
  },
  {
   "cell_type": "code",
   "execution_count": 13,
   "id": "93466b4e",
   "metadata": {},
   "outputs": [],
   "source": [
    "# Split the 'id;alco' column into separate 'id' and 'alco' columns in cardio_alco\n",
    "cardio_alco[['id', 'alco']] = cardio_alco['id;alco'].str.split(';', expand=True)\n",
    "\n",
    "# Convert 'id' column to numeric data type to match the 'id' column in cardio_base\n",
    "cardio_alco['id'] = pd.to_numeric(cardio_alco['id'], errors='coerce')\n",
    "\n",
    "# Merge the two dataframes on the 'id' column, keeping only matching rows\n",
    "merged_df = pd.merge(cardio_base, cardio_alco, on='id', how='inner')\n",
    "\n",
    "# Drop the original 'id;alco' column since it is no longer needed\n",
    "merged_df.drop(columns=['id;alco'], inplace=True)\n",
    "\n",
    "# Convert the 'alco' column to integer data type\n",
    "merged_df['alco'] = pd.to_numeric(merged_df['alco'], errors='coerce')"
   ]
  },
  {
   "cell_type": "markdown",
   "id": "e38b7c61",
   "metadata": {},
   "source": [
    "## Calculate the percentage of people over 50 who consume alcohol"
   ]
  },
  {
   "cell_type": "code",
   "execution_count": 14,
   "id": "ef6e9a74",
   "metadata": {},
   "outputs": [
    {
     "name": "stdout",
     "output_type": "stream",
     "text": [
      "4.92% of people over 50 years old consume alcohol.\n"
     ]
    }
   ],
   "source": [
    "# Filter the data for people over 50 years old\n",
    "\n",
    "df = merged_df\n",
    "over_50 = df[df['age'] > 50]\n",
    "\n",
    "# Calculate the total number of people over 50 who consume alcohol\n",
    "over_50_alcohol = over_50[over_50['alco'] == 1]['id'].count()\n",
    "\n",
    "# Calculate the percentage of people over 50 who consume alcohol\n",
    "pct_over_50_alcohol = over_50_alcohol / over_50.shape[0] * 100\n",
    "\n",
    "print(\"{:.2f}% of people over 50 years old consume alcohol.\".format(pct_over_50_alcohol))"
   ]
  },
  {
   "cell_type": "code",
   "execution_count": 17,
   "id": "1bdc6ef4",
   "metadata": {},
   "outputs": [],
   "source": [
    "import warnings\n",
    "warnings.filterwarnings('ignore')\n"
   ]
  },
  {
   "cell_type": "markdown",
   "id": "07c7aaff",
   "metadata": {},
   "source": [
    "## Check/ Smokers have higher blood pressure than non-smokers with 95% confidence\n",
    "##              Smokers have higher cholesterol levels than non-smokers with 95% confidence"
   ]
  },
  {
   "cell_type": "code",
   "execution_count": 19,
   "id": "3bf12801",
   "metadata": {},
   "outputs": [
    {
     "name": "stdout",
     "output_type": "stream",
     "text": [
      "There is no significant difference in blood pressure between smokers and non-smokers.\n",
      "Smokers have higher cholesterol levels than non-smokers with 95% confidence.\n"
     ]
    }
   ],
   "source": [
    "import scipy.stats as stats\n",
    "\n",
    "# Test 1: Smokers have higher blood pressure than non-smokers\n",
    "smokers_bp = df.loc[df['smoke'] == 1, ['ap_hi', 'ap_lo']]\n",
    "non_smokers_bp = df.loc[df['smoke'] == 0, ['ap_hi', 'ap_lo']]\n",
    "\n",
    "smokers_mean_bp = smokers_bp.mean().mean()\n",
    "non_smokers_mean_bp = non_smokers_bp.mean().mean()\n",
    "\n",
    "smokers_std_bp = smokers_bp.stack().std()\n",
    "non_smokers_std_bp = non_smokers_bp.stack().std()\n",
    "\n",
    "# calculate 95% confidence intervals for the mean difference\n",
    "diff_mean_bp = smokers_mean_bp - non_smokers_mean_bp\n",
    "se_mean_diff_bp = ((smokers_std_bp**2 / smokers_bp.size) + (non_smokers_std_bp**2 / non_smokers_bp.size))**0.5\n",
    "ci_mean_diff_bp = stats.t.interval(alpha=0.95, df=(smokers_bp.size + non_smokers_bp.size - 2), loc=diff_mean_bp, scale=se_mean_diff_bp)\n",
    "\n",
    "if ci_mean_diff_bp[0] > 0:\n",
    "    print(\"Smokers have higher blood pressure than non-smokers with 95% confidence.\")\n",
    "else:\n",
    "    print(\"There is no significant difference in blood pressure between smokers and non-smokers.\")\n",
    "\n",
    "# Test 2: Smokers have higher cholesterol level than non-smokers\n",
    "smokers_chol = df.loc[df['smoke'] == 1, 'cholesterol']\n",
    "non_smokers_chol = df.loc[df['smoke'] == 0, 'cholesterol']\n",
    "\n",
    "smokers_mean_chol = smokers_chol.mean()\n",
    "non_smokers_mean_chol = non_smokers_chol.mean()\n",
    "\n",
    "smokers_std_chol = smokers_chol.std()\n",
    "non_smokers_std_chol = non_smokers_chol.std()\n",
    "\n",
    "# calculate 95% confidence intervals for the mean difference\n",
    "diff_mean_chol = smokers_mean_chol - non_smokers_mean_chol\n",
    "se_mean_diff_chol = ((smokers_std_chol**2 / smokers_chol.size) + (non_smokers_std_chol**2 / non_smokers_chol.size))**0.5\n",
    "ci_mean_diff_chol = stats.t.interval(alpha=0.95, df=(smokers_chol.size + non_smokers_chol.size - 2), loc=diff_mean_chol, scale=se_mean_diff_chol)\n",
    "\n",
    "if ci_mean_diff_chol[0] > 0:\n",
    "    print(\"Smokers have higher cholesterol levels than non-smokers with 95% confidence.\")\n",
    "else:\n",
    "    print(\"There is no significant difference in cholesterol levels between smokers and non-smokers.\")"
   ]
  },
  {
   "cell_type": "markdown",
   "id": "9bf0b4b7",
   "metadata": {},
   "source": [
    "## When did the difference in the total number of confirmed cases between Italy and Germany become more than 10 000?"
   ]
  },
  {
   "cell_type": "code",
   "execution_count": 29,
   "id": "bdbe1cc8",
   "metadata": {},
   "outputs": [
    {
     "data": {
      "text/html": [
       "<div>\n",
       "<style scoped>\n",
       "    .dataframe tbody tr th:only-of-type {\n",
       "        vertical-align: middle;\n",
       "    }\n",
       "\n",
       "    .dataframe tbody tr th {\n",
       "        vertical-align: top;\n",
       "    }\n",
       "\n",
       "    .dataframe thead th {\n",
       "        text-align: right;\n",
       "    }\n",
       "</style>\n",
       "<table border=\"1\" class=\"dataframe\">\n",
       "  <thead>\n",
       "    <tr style=\"text-align: right;\">\n",
       "      <th>location</th>\n",
       "      <th>date</th>\n",
       "      <th>total_cases_Italy</th>\n",
       "      <th>total_cases_Germany</th>\n",
       "      <th>differ</th>\n",
       "    </tr>\n",
       "  </thead>\n",
       "  <tbody>\n",
       "    <tr>\n",
       "      <th>72</th>\n",
       "      <td>2020-03-12</td>\n",
       "      <td>12462</td>\n",
       "      <td>1567</td>\n",
       "      <td>10895</td>\n",
       "    </tr>\n",
       "    <tr>\n",
       "      <th>73</th>\n",
       "      <td>2020-03-13</td>\n",
       "      <td>15113</td>\n",
       "      <td>2369</td>\n",
       "      <td>12744</td>\n",
       "    </tr>\n",
       "    <tr>\n",
       "      <th>74</th>\n",
       "      <td>2020-03-14</td>\n",
       "      <td>17660</td>\n",
       "      <td>3062</td>\n",
       "      <td>14598</td>\n",
       "    </tr>\n",
       "    <tr>\n",
       "      <th>75</th>\n",
       "      <td>2020-03-15</td>\n",
       "      <td>21157</td>\n",
       "      <td>3795</td>\n",
       "      <td>17362</td>\n",
       "    </tr>\n",
       "    <tr>\n",
       "      <th>76</th>\n",
       "      <td>2020-03-16</td>\n",
       "      <td>23980</td>\n",
       "      <td>4838</td>\n",
       "      <td>19142</td>\n",
       "    </tr>\n",
       "    <tr>\n",
       "      <th>...</th>\n",
       "      <td>...</td>\n",
       "      <td>...</td>\n",
       "      <td>...</td>\n",
       "      <td>...</td>\n",
       "    </tr>\n",
       "    <tr>\n",
       "      <th>158</th>\n",
       "      <td>2020-06-06</td>\n",
       "      <td>234531</td>\n",
       "      <td>183678</td>\n",
       "      <td>50853</td>\n",
       "    </tr>\n",
       "    <tr>\n",
       "      <th>159</th>\n",
       "      <td>2020-06-07</td>\n",
       "      <td>234801</td>\n",
       "      <td>183979</td>\n",
       "      <td>50822</td>\n",
       "    </tr>\n",
       "    <tr>\n",
       "      <th>160</th>\n",
       "      <td>2020-06-08</td>\n",
       "      <td>234998</td>\n",
       "      <td>184193</td>\n",
       "      <td>50805</td>\n",
       "    </tr>\n",
       "    <tr>\n",
       "      <th>161</th>\n",
       "      <td>2020-06-09</td>\n",
       "      <td>235278</td>\n",
       "      <td>184543</td>\n",
       "      <td>50735</td>\n",
       "    </tr>\n",
       "    <tr>\n",
       "      <th>162</th>\n",
       "      <td>2020-06-10</td>\n",
       "      <td>235561</td>\n",
       "      <td>184861</td>\n",
       "      <td>50700</td>\n",
       "    </tr>\n",
       "  </tbody>\n",
       "</table>\n",
       "<p>91 rows × 4 columns</p>\n",
       "</div>"
      ],
      "text/plain": [
       "location        date  total_cases_Italy  total_cases_Germany  differ\n",
       "72        2020-03-12              12462                 1567   10895\n",
       "73        2020-03-13              15113                 2369   12744\n",
       "74        2020-03-14              17660                 3062   14598\n",
       "75        2020-03-15              21157                 3795   17362\n",
       "76        2020-03-16              23980                 4838   19142\n",
       "..               ...                ...                  ...     ...\n",
       "158       2020-06-06             234531               183678   50853\n",
       "159       2020-06-07             234801               183979   50822\n",
       "160       2020-06-08             234998               184193   50805\n",
       "161       2020-06-09             235278               184543   50735\n",
       "162       2020-06-10             235561               184861   50700\n",
       "\n",
       "[91 rows x 4 columns]"
      ]
     },
     "execution_count": 29,
     "metadata": {},
     "output_type": "execute_result"
    }
   ],
   "source": [
    "# Filter the dataframe to only include data for Italy and Germany.\n",
    "italy_germany = covid_data[(covid_data.location == 'Italy') | (covid_data.location == 'Germany')]\n",
    "\n",
    "# Group the data by date and location, and calculate the sum of new cases.\n",
    "grouped = italy_germany.groupby(['date', 'location'])['new_cases'].sum().reset_index()\n",
    "\n",
    "# Pivot the table so that the columns are the location and the values are the total number of new cases.\n",
    "pivoted = grouped.pivot(index='date', columns='location', values='new_cases').reset_index()\n",
    "\n",
    "# Calculate the cumulative sum of new cases for each country.\n",
    "pivoted['total_cases_Italy'] = pivoted['Italy'].cumsum()\n",
    "pivoted['total_cases_Germany'] = pivoted['Germany'].cumsum()\n",
    "\n",
    "# Select the columns for the final dataframe.\n",
    "result = pivoted[['date', 'total_cases_Italy', 'total_cases_Germany']]\n",
    "\n",
    "result['differ'] = result['total_cases_Italy'] - result['total_cases_Germany']\n",
    "\n",
    "result[result['differ'] > 10000]\n"
   ]
  },
  {
   "cell_type": "markdown",
   "id": "ac56c409",
   "metadata": {},
   "source": [
    "## What is the difference between the exponential curve and the total number of real cases on 2020-03-20?"
   ]
  },
  {
   "cell_type": "code",
   "execution_count": 31,
   "id": "653ea69b",
   "metadata": {},
   "outputs": [
    {
     "name": "stdout",
     "output_type": "stream",
     "text": [
      "The difference between the exponential curve and the total number of real cases on 2020-03-20 is: -37024\n"
     ]
    }
   ],
   "source": [
    "import numpy as np\n",
    "from scipy.optimize import curve_fit\n",
    "\n",
    "# Filter the dataframe to only include data for Italy between 2020-02-28 and 2020-03-20.\n",
    "italy_data = covid_data[(covid_data.location == 'Italy') & (covid_data.date >= '2020-02-28') & (covid_data.date <= '2020-03-20')]\n",
    "\n",
    "# Calculate the cumulative sum of new cases for each day.\n",
    "cumulative_cases = italy_data['new_cases'].cumsum()\n",
    "\n",
    "# Define the exponential function.\n",
    "def exponential_func(x, a, b):\n",
    "    return a * np.exp(b * x)\n",
    "\n",
    "# Fit the exponential function to the cumulative cases.\n",
    "params, _ = curve_fit(exponential_func, range(len(cumulative_cases)), cumulative_cases)\n",
    "\n",
    "# Calculate the fitted values for the exponential function.\n",
    "fitted_values = exponential_func(range(len(cumulative_cases)), *params)\n",
    "\n",
    "# Calculate the difference between the fitted exponential curve and the actual cumulative cases on 2020-03-20.\n",
    "real_cases = italy_data[italy_data.date == '2020-03-20']['new_cases'].sum()\n",
    "fitted_cases = int(fitted_values[-1])\n",
    "difference = real_cases - fitted_cases\n",
    "\n",
    "print(\"The difference between the exponential curve and the total number of real cases on 2020-03-20 is:\", difference)"
   ]
  },
  {
   "cell_type": "markdown",
   "id": "6afc4cd7",
   "metadata": {},
   "source": [
    "## which country has the third highest death rate?"
   ]
  },
  {
   "cell_type": "code",
   "execution_count": 32,
   "id": "3b0938f9",
   "metadata": {},
   "outputs": [
    {
     "name": "stdout",
     "output_type": "stream",
     "text": [
      "Belgium\n"
     ]
    }
   ],
   "source": [
    "# Calculate the death rate for each country and store it in a new column called 'death_rate'.\n",
    "covid_data['death_rate'] = covid_data['new_deaths'] / covid_data['population'] * 100\n",
    "\n",
    "# Group the data by location and calculate the mean death rate for each country.\n",
    "mean_death_rates = covid_data.groupby('location')['death_rate'].mean()\n",
    "\n",
    "# Sort the death rates in descending order and select the third country in the list.\n",
    "third_highest_country = mean_death_rates.sort_values(ascending=False).index[2]\n",
    "\n",
    "print(third_highest_country)"
   ]
  },
  {
   "cell_type": "markdown",
   "id": "842df3c9",
   "metadata": {},
   "source": [
    "## What is the F1 score of the following statement: Countries, where more than 20% of the population is over 65 years old, have death rates over 50 per million inhabitants."
   ]
  },
  {
   "cell_type": "code",
   "execution_count": 33,
   "id": "e68c1d55",
   "metadata": {},
   "outputs": [
    {
     "name": "stdout",
     "output_type": "stream",
     "text": [
      "The probability that a country has GDP over $10,000, given that they have at least 5 hospital beds per 1000 inhabitants, is 0.8565304372677908\n"
     ]
    }
   ],
   "source": [
    "# Filter the data based on the condition B\n",
    "filtered_data = covid_data[covid_data['hospital_beds_per_thousand'] >= 5]\n",
    "\n",
    "# Calculate the joint probability P(A and B)\n",
    "joint_prob = filtered_data[filtered_data['gdp_per_capita'] > 10000].shape[0] / covid_data.shape[0]\n",
    "\n",
    "# Calculate the marginal probability P(B)\n",
    "marginal_prob = filtered_data.shape[0] / covid_data.shape[0]\n",
    "\n",
    "# Calculate the conditional probability P(A | B)\n",
    "conditional_prob = joint_prob / marginal_prob\n",
    "\n",
    "print(\"The probability that a country has GDP over $10,000, given that they have at least 5 hospital beds per 1000 inhabitants, is\", conditional_prob)\n"
   ]
  },
  {
   "cell_type": "code",
   "execution_count": null,
   "id": "4dfbd555",
   "metadata": {},
   "outputs": [],
   "source": []
  }
 ],
 "metadata": {
  "kernelspec": {
   "display_name": "Python 3 (ipykernel)",
   "language": "python",
   "name": "python3"
  },
  "language_info": {
   "codemirror_mode": {
    "name": "ipython",
    "version": 3
   },
   "file_extension": ".py",
   "mimetype": "text/x-python",
   "name": "python",
   "nbconvert_exporter": "python",
   "pygments_lexer": "ipython3",
   "version": "3.10.9"
  }
 },
 "nbformat": 4,
 "nbformat_minor": 5
}
